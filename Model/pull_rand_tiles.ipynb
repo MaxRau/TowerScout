{
 "cells": [
  {
   "cell_type": "code",
   "execution_count": 5,
   "metadata": {},
   "outputs": [],
   "source": [
    "import pandas as pd\n",
    "from get_img import get_img\n",
    "import re\n",
    "import random"
   ]
  },
  {
   "cell_type": "code",
   "execution_count": 67,
   "metadata": {},
   "outputs": [],
   "source": [
    "cities = pd.read_csv(\"data/othercities.csv\")"
   ]
  },
  {
   "cell_type": "code",
   "execution_count": 68,
   "metadata": {},
   "outputs": [
    {
     "data": {
      "text/html": [
       "<div>\n",
       "<style scoped>\n",
       "    .dataframe tbody tr th:only-of-type {\n",
       "        vertical-align: middle;\n",
       "    }\n",
       "\n",
       "    .dataframe tbody tr th {\n",
       "        vertical-align: top;\n",
       "    }\n",
       "\n",
       "    .dataframe thead th {\n",
       "        text-align: right;\n",
       "    }\n",
       "</style>\n",
       "<table border=\"1\" class=\"dataframe\">\n",
       "  <thead>\n",
       "    <tr style=\"text-align: right;\">\n",
       "      <th></th>\n",
       "      <th>City</th>\n",
       "      <th>long1</th>\n",
       "      <th>long2</th>\n",
       "      <th>lat1</th>\n",
       "      <th>lat2</th>\n",
       "      <th>num_tiles</th>\n",
       "    </tr>\n",
       "  </thead>\n",
       "  <tbody>\n",
       "    <tr>\n",
       "      <th>0</th>\n",
       "      <td>Houston</td>\n",
       "      <td>-95.383906</td>\n",
       "      <td>-95.342306</td>\n",
       "      <td>29.766633</td>\n",
       "      <td>29.743192</td>\n",
       "      <td>30</td>\n",
       "    </tr>\n",
       "    <tr>\n",
       "      <th>1</th>\n",
       "      <td>Seattle</td>\n",
       "      <td>-122.341736</td>\n",
       "      <td>-122.319350</td>\n",
       "      <td>47.625851</td>\n",
       "      <td>47.536030</td>\n",
       "      <td>50</td>\n",
       "    </tr>\n",
       "    <tr>\n",
       "      <th>2</th>\n",
       "      <td>Chicago</td>\n",
       "      <td>-87.687691</td>\n",
       "      <td>-87.617477</td>\n",
       "      <td>41.931628</td>\n",
       "      <td>41.810367</td>\n",
       "      <td>50</td>\n",
       "    </tr>\n",
       "    <tr>\n",
       "      <th>3</th>\n",
       "      <td>Atlanta</td>\n",
       "      <td>-84.419513</td>\n",
       "      <td>-84.355648</td>\n",
       "      <td>33.795891</td>\n",
       "      <td>33.736997</td>\n",
       "      <td>50</td>\n",
       "    </tr>\n",
       "  </tbody>\n",
       "</table>\n",
       "</div>"
      ],
      "text/plain": [
       "      City       long1       long2       lat1       lat2  num_tiles\n",
       "0  Houston  -95.383906  -95.342306  29.766633  29.743192         30\n",
       "1  Seattle -122.341736 -122.319350  47.625851  47.536030         50\n",
       "2  Chicago  -87.687691  -87.617477  41.931628  41.810367         50\n",
       "3  Atlanta  -84.419513  -84.355648  33.795891  33.736997         50"
      ]
     },
     "execution_count": 68,
     "metadata": {},
     "output_type": "execute_result"
    }
   ],
   "source": [
    "cities.head()"
   ]
  },
  {
   "cell_type": "code",
   "execution_count": 69,
   "metadata": {},
   "outputs": [],
   "source": [
    "# for each city, create a vector of random points\n",
    "longs = []\n",
    "lats = []\n",
    "coords=[]\n",
    "\n",
    "for i in range(cities.shape[0]):\n",
    "    coord = []\n",
    "    for j in range(cities.num_tiles[i]):\n",
    "        long = random.uniform(cities.long1[i], cities.long2[i])\n",
    "        lat = random.uniform(cities.lat2[i], cities.lat1[i])\n",
    "        coord.append((lat, long))\n",
    "    coords.append(coord)"
   ]
  },
  {
   "cell_type": "code",
   "execution_count": 70,
   "metadata": {},
   "outputs": [
    {
     "data": {
      "text/html": [
       "<div>\n",
       "<style scoped>\n",
       "    .dataframe tbody tr th:only-of-type {\n",
       "        vertical-align: middle;\n",
       "    }\n",
       "\n",
       "    .dataframe tbody tr th {\n",
       "        vertical-align: top;\n",
       "    }\n",
       "\n",
       "    .dataframe thead th {\n",
       "        text-align: right;\n",
       "    }\n",
       "</style>\n",
       "<table border=\"1\" class=\"dataframe\">\n",
       "  <thead>\n",
       "    <tr style=\"text-align: right;\">\n",
       "      <th></th>\n",
       "      <th>City</th>\n",
       "      <th>long1</th>\n",
       "      <th>long2</th>\n",
       "      <th>lat1</th>\n",
       "      <th>lat2</th>\n",
       "      <th>num_tiles</th>\n",
       "      <th>coords</th>\n",
       "    </tr>\n",
       "  </thead>\n",
       "  <tbody>\n",
       "    <tr>\n",
       "      <th>0</th>\n",
       "      <td>Houston</td>\n",
       "      <td>-95.383906</td>\n",
       "      <td>-95.342306</td>\n",
       "      <td>29.766633</td>\n",
       "      <td>29.743192</td>\n",
       "      <td>30</td>\n",
       "      <td>[(29.756313055993875, -95.36309394329216), (29...</td>\n",
       "    </tr>\n",
       "    <tr>\n",
       "      <th>1</th>\n",
       "      <td>Seattle</td>\n",
       "      <td>-122.341736</td>\n",
       "      <td>-122.319350</td>\n",
       "      <td>47.625851</td>\n",
       "      <td>47.536030</td>\n",
       "      <td>50</td>\n",
       "      <td>[(47.54506425132844, -122.33505338033636), (47...</td>\n",
       "    </tr>\n",
       "    <tr>\n",
       "      <th>2</th>\n",
       "      <td>Chicago</td>\n",
       "      <td>-87.687691</td>\n",
       "      <td>-87.617477</td>\n",
       "      <td>41.931628</td>\n",
       "      <td>41.810367</td>\n",
       "      <td>50</td>\n",
       "      <td>[(41.923318401950134, -87.64510873067961), (41...</td>\n",
       "    </tr>\n",
       "    <tr>\n",
       "      <th>3</th>\n",
       "      <td>Atlanta</td>\n",
       "      <td>-84.419513</td>\n",
       "      <td>-84.355648</td>\n",
       "      <td>33.795891</td>\n",
       "      <td>33.736997</td>\n",
       "      <td>50</td>\n",
       "      <td>[(33.74248614433411, -84.39286175450337), (33....</td>\n",
       "    </tr>\n",
       "  </tbody>\n",
       "</table>\n",
       "</div>"
      ],
      "text/plain": [
       "      City       long1       long2       lat1       lat2  num_tiles  \\\n",
       "0  Houston  -95.383906  -95.342306  29.766633  29.743192         30   \n",
       "1  Seattle -122.341736 -122.319350  47.625851  47.536030         50   \n",
       "2  Chicago  -87.687691  -87.617477  41.931628  41.810367         50   \n",
       "3  Atlanta  -84.419513  -84.355648  33.795891  33.736997         50   \n",
       "\n",
       "                                              coords  \n",
       "0  [(29.756313055993875, -95.36309394329216), (29...  \n",
       "1  [(47.54506425132844, -122.33505338033636), (47...  \n",
       "2  [(41.923318401950134, -87.64510873067961), (41...  \n",
       "3  [(33.74248614433411, -84.39286175450337), (33....  "
      ]
     },
     "execution_count": 70,
     "metadata": {},
     "output_type": "execute_result"
    }
   ],
   "source": [
    "cities[\"coords\"] = coords\n",
    "cities.head()"
   ]
  },
  {
   "cell_type": "code",
   "execution_count": 72,
   "metadata": {},
   "outputs": [
    {
     "name": "stdout",
     "output_type": "stream",
     "text": [
      "Houston\n",
      "0 1 2 3 4 5 6 7 8 9 10 11 12 13 14 15 16 17 18 19 20 21 22 23 24 25 26 27 28 29 Seattle\n",
      "0 1 2 3 4 5 6 7 8 9 10 11 12 13 14 15 16 17 18 19 20 21 22 23 24 25 26 27 28 29 30 31 32 33 34 35 36 37 38 39 40 41 42 43 44 45 46 47 48 49 Chicago\n",
      "0 1 2 3 4 5 6 7 8 9 10 11 12 13 14 15 16 17 18 19 20 21 22 23 24 25 26 27 28 29 30 31 32 33 34 35 36 37 38 39 40 41 42 43 44 45 46 47 48 49 Atlanta\n",
      "0 1 2 3 4 5 6 7 8 9 10 11 12 13 14 15 16 17 18 19 20 21 22 23 24 25 26 27 28 29 30 31 32 33 34 35 36 37 38 39 40 41 42 43 44 45 46 47 48 49 "
     ]
    }
   ],
   "source": [
    "for i in range(cities.shape[0]): \n",
    "    print(cities.City[i], end=\"\\n\")\n",
    "    for j in range(len(cities.coords[i])):\n",
    "        print(j, end=' ')\n",
    "        street = str(cities.coords[i][j][0])+\"+\"+str(cities.coords[i][j][1])\n",
    "        get_img(center=street, filename=\"data/othercities/\"+cities.City[i]+str(j), zoom=19, size=\"640x640\", sc=2, fmt=\"png\", maptype=\"satellite\")"
   ]
  },
  {
   "cell_type": "code",
   "execution_count": 36,
   "metadata": {},
   "outputs": [
    {
     "data": {
      "text/plain": [
       "'-95.471346,29.74846383163781'"
      ]
     },
     "execution_count": 36,
     "metadata": {},
     "output_type": "execute_result"
    }
   ],
   "source": [
    "street = str(cities.coords[i][j][0])+\",\"+str(cities.coords[i][j][1])\n",
    "\n",
    "street\n",
    "# get_img(center=street, filename=\"data/othercities/\"+cities.City[i]+str(j), zoom=19, size=\"640x640\", sc=2, fmt=\"png\", maptype=\"satellite\")"
   ]
  },
  {
   "cell_type": "code",
   "execution_count": 38,
   "metadata": {},
   "outputs": [],
   "source": [
    "get_img(center=street, filename=\"data/othercities/\"+cities.City[i]+str(j), zoom=19, size=\"640x640\", sc=2, fmt=\"png\", maptype=\"satellite\")"
   ]
  },
  {
   "cell_type": "code",
   "execution_count": 115,
   "metadata": {},
   "outputs": [],
   "source": [
    "# ctid = [\"data/nys/\"+str(x) for x in nys.UniqueID]\n",
    "ctid = [\"data/phil/\"+str(x) for x in phl.ctnum]"
   ]
  },
  {
   "cell_type": "code",
   "execution_count": 117,
   "metadata": {},
   "outputs": [],
   "source": [
    "# ctid[267:]\n",
    "# nys.head()"
   ]
  },
  {
   "cell_type": "code",
   "execution_count": 124,
   "metadata": {},
   "outputs": [],
   "source": [
    "# st0 = [x.split(\"\\n\")[0].replace(\".\", \"\")+\" \"+x.split(\"\\n\")[1].replace(\",\", \"\") for x in nys.NewGeoreferencedColumn]\n",
    "\n",
    "# street = [\"+\".join(x.split()) for x in st0]\n",
    "\n",
    "# Philly\n",
    "street = [str(x)+\",\"+str(y) for x, y in zip(phl.PointX, phl.PointY)]"
   ]
  },
  {
   "cell_type": "code",
   "execution_count": 125,
   "metadata": {},
   "outputs": [
    {
     "data": {
      "text/plain": [
       "['40.04446078,-75.04194683',\n",
       " '39.98560638,-75.15892426',\n",
       " '39.95702675,-75.19660854',\n",
       " '39.94723298,-75.15848305',\n",
       " '40.03757852,-75.15210494',\n",
       " '40.03544526,-75.10355188',\n",
       " '39.96217124,-75.16433567',\n",
       " '39.95034356,-75.16520762',\n",
       " '39.95097849,-75.17932249',\n",
       " '39.96384471,-75.17472539']"
      ]
     },
     "execution_count": 125,
     "metadata": {},
     "output_type": "execute_result"
    }
   ],
   "source": [
    "street[0:10]"
   ]
  },
  {
   "cell_type": "code",
   "execution_count": 126,
   "metadata": {},
   "outputs": [
    {
     "data": {
      "text/plain": [
       "550"
      ]
     },
     "execution_count": 126,
     "metadata": {},
     "output_type": "execute_result"
    }
   ],
   "source": [
    "len(ctid)\n",
    "# list(range(1, 3))"
   ]
  },
  {
   "cell_type": "code",
   "execution_count": 128,
   "metadata": {},
   "outputs": [
    {
     "name": "stdout",
     "output_type": "stream",
     "text": [
      "0 1 2 3 4 5 6 7 8 9 10 11 12 13 14 15 16 17 18 19 20 21 22 23 24 25 26 27 28 29 30 31 32 33 34 35 36 37 38 39 40 41 42 43 44 45 46 47 48 49 50 51 52 53 54 55 56 57 58 59 60 61 62 63 64 65 66 67 68 69 70 71 72 73 74 75 76 77 78 79 80 81 82 83 84 85 86 87 88 89 90 91 92 93 94 95 96 97 98 99 100 101 102 103 104 105 106 107 108 109 110 111 112 113 114 115 116 117 118 119 120 121 122 123 124 125 126 127 128 129 130 131 132 133 134 135 136 137 138 139 140 141 142 143 144 145 146 147 148 149 150 151 152 153 154 155 156 157 158 159 160 161 162 163 164 165 166 167 168 169 170 171 172 173 174 175 176 177 178 179 180 181 182 183 184 185 186 187 188 189 190 191 192 193 194 195 196 197 198 199 200 201 202 203 204 205 206 207 208 209 210 211 212 213 214 215 216 217 218 219 220 221 222 223 224 225 226 227 228 229 230 231 232 233 234 235 236 237 238 239 240 241 242 243 244 245 246 247 248 249 250 251 252 253 254 255 256 257 258 259 260 261 262 263 264 265 266 267 268 269 270 271 272 273 274 275 276 277 278 279 280 281 282 283 284 285 286 287 288 289 290 291 292 293 294 295 296 297 298 299 300 301 302 303 304 305 306 307 308 309 310 311 312 313 314 315 316 317 318 319 320 321 322 323 324 325 326 327 328 329 330 331 332 333 334 335 336 337 338 339 340 341 342 343 344 345 346 347 348 349 350 351 352 353 354 355 356 357 358 359 360 361 362 363 364 365 366 367 368 369 370 371 372 373 374 375 376 377 378 379 380 381 382 383 384 385 386 387 388 389 390 391 392 393 394 395 396 397 398 399 400 401 402 403 404 405 406 407 408 409 410 411 412 413 414 415 416 417 418 419 420 421 422 423 424 425 426 427 428 429 430 431 432 433 434 435 436 437 438 439 440 441 442 443 444 445 446 447 448 449 450 451 452 453 454 455 456 457 458 459 460 461 462 463 464 465 466 467 468 469 470 471 472 473 474 475 476 477 478 479 480 481 482 483 484 485 486 487 488 489 490 491 492 493 494 495 496 497 498 499 500 501 502 503 504 505 506 507 508 509 510 511 512 513 514 515 516 517 518 519 520 521 522 523 524 525 526 527 528 529 530 531 532 533 534 535 536 537 538 539 540 541 542 543 544 545 546 547 548 549 "
     ]
    }
   ],
   "source": [
    "for i in range(len(ctid)): \n",
    "    print(i, end=' ')\n",
    "    get_img(center=street[i], filename=ctid[i], zoom=19, size=\"640x640\", sc=2, fmt=\"png\", maptype=\"satellite\")"
   ]
  },
  {
   "cell_type": "code",
   "execution_count": null,
   "metadata": {},
   "outputs": [],
   "source": []
  }
 ],
 "metadata": {
  "kernelspec": {
   "display_name": "Python 3",
   "language": "python",
   "name": "python3"
  },
  "language_info": {
   "codemirror_mode": {
    "name": "ipython",
    "version": 3
   },
   "file_extension": ".py",
   "mimetype": "text/x-python",
   "name": "python",
   "nbconvert_exporter": "python",
   "pygments_lexer": "ipython3",
   "version": "3.8.2"
  }
 },
 "nbformat": 4,
 "nbformat_minor": 4
}
