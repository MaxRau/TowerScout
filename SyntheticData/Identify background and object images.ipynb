{
 "cells": [
  {
   "cell_type": "code",
   "execution_count": 1,
   "metadata": {},
   "outputs": [],
   "source": [
    "import shutil\n",
    "import os\n",
    "import cv2\n",
    "import numpy as np;\n",
    "import os\n",
    "import time\n",
    "import random\n",
    "import sys\n",
    "import pandas as pd\n",
    "import xml.etree.ElementTree as et "
   ]
  },
  {
   "cell_type": "code",
   "execution_count": 2,
   "metadata": {},
   "outputs": [
    {
     "name": "stdout",
     "output_type": "stream",
     "text": [
      "rawdata/nyc\n",
      "rawdata/nyc_annot\n",
      "rawdata/nyc_bg\n",
      "Number of object images  253\n"
     ]
    }
   ],
   "source": [
    "#Identify background images based on .xml\n",
    "\n",
    "src= 'rawdata/nyc'\n",
    "print(src)\n",
    "src1 = 'rawdata/nyc_annot'\n",
    "print(src1)\n",
    "des= 'rawdata/nyc_bg'\n",
    "print(des)\n",
    "\n",
    "files1=[os.path.basename(name).split('.')[0] for name in os.listdir(src1)]\n",
    "files=[os.path.basename(name).split('.')[0] for name in os.listdir(src)]\n",
    "\n",
    "format = 'png'\n",
    "i = 0\n",
    "\n",
    "for file_name in files:\n",
    "    if file_name not in files1:\n",
    "        path = os.path.join(src,file_name+\".\"+format)\n",
    "        #print(path)\n",
    "        shutil.copy(path,des)\n",
    "        i+=1\n",
    "        \n",
    "print(\"Number of background images \", i)"
   ]
  },
  {
   "cell_type": "code",
   "execution_count": 6,
   "metadata": {},
   "outputs": [
    {
     "name": "stdout",
     "output_type": "stream",
     "text": [
      "rawdata/othercities_jpg/train/labels\n",
      "rawdata/othercities_jpg/train/images\n",
      "Number of background images  164\n"
     ]
    }
   ],
   "source": [
    "#Identify background images based on file size (yolov5 input)\n",
    "\n",
    "src= 'rawdata/othercities_jpg/train/labels'\n",
    "print(src)\n",
    "src_img = 'rawdata/othercities_jpg/train/images'\n",
    "print(src_img)\n",
    "des = 'rawdata/othercities_jpg/bg'\n",
    "\n",
    "format = 'jpg'\n",
    "\n",
    "files=[os.path.join(src,name) for name in os.listdir(src)]\n",
    "\n",
    "i = 0\n",
    " \n",
    "for src_file in files:\n",
    "    if (os.stat(src_file).st_size) == 0:        \n",
    "        base_name = os.path.basename(src_file)\n",
    "        shutil.copy(os.path.join(src_img,os.path.splitext(base_name)[0]+\".\"+format),des)\n",
    "        i+=1\n",
    "        \n",
    "print(\"Number of background images \", i)"
   ]
  },
  {
   "cell_type": "code",
   "execution_count": 4,
   "metadata": {},
   "outputs": [
    {
     "name": "stdout",
     "output_type": "stream",
     "text": [
      "rawdata/phil_annot\n",
      "rawdata/phil\n",
      "Number of object images  88\n"
     ]
    }
   ],
   "source": [
    "#Identify objects images with single object\n",
    "\n",
    "src= 'rawdata/phil_annot'\n",
    "print(src)\n",
    "src_img = 'rawdata/phil'\n",
    "print(src_img)\n",
    "object_des = 'rawdata/phil_mask/source'\n",
    "anno_des = 'rawdata/phil_mask/annotation'\n",
    "\n",
    "format = 'png'\n",
    "\n",
    "files=[os.path.join(src,name) for name in os.listdir(src)]\n",
    "\n",
    "i = 0\n",
    " \n",
    "for src_file in files:\n",
    "    if (os.stat(src_file).st_size) <= 550 and (os.stat(src_file).st_size) > 400:        \n",
    "        base_name = os.path.basename(src_file)\n",
    "        shutil.copy(os.path.join(src_img,os.path.splitext(base_name)[0]+\".\"+format),object_des)\n",
    "        shutil.copy(src_file,anno_des)\n",
    "        i+=1\n",
    "        \n",
    "print(\"Number of object images \", i)"
   ]
  },
  {
   "cell_type": "code",
   "execution_count": 3,
   "metadata": {},
   "outputs": [
    {
     "name": "stdout",
     "output_type": "stream",
     "text": [
      "Number of object images  24\n"
     ]
    }
   ],
   "source": [
    "#Identify objects images based on a provided list\n",
    "\n",
    "src_img = 'rawdata/nyc'\n",
    "src_anno = 'rawdata/nyc_annot'\n",
    "src_yolo = 'rawdata/fn/labels'\n",
    "object_des = 'rawdata/fn_mask/source'\n",
    "anno_des = 'rawdata/fn_mask/annotation_all'\n",
    "anno_des_yolo = 'rawdata/fn_mask/annotation_yolo'\n",
    "\n",
    "filelist = 'rawdata/fn/fn.txt'\n",
    "df = pd.read_csv(filelist)\n",
    "colname = 'falsenegative'\n",
    "\n",
    "img_format = 'png'\n",
    "anno_format = 'xml'\n",
    "anno_format_yolo = 'txt'\n",
    "\n",
    "i = 0\n",
    "\n",
    "for item in df[colname].values:\n",
    "    shutil.copy(os.path.join(src_img,item[:10]+\".\"+img_format),object_des)\n",
    "    shutil.copy(os.path.join(src_anno,item[:10]+\".\"+anno_format),anno_des)\n",
    "    shutil.copy(os.path.join(src_yolo,item[:-3]+anno_format_yolo),anno_des_yolo)\n",
    "    i+=1\n",
    "    \n",
    "print(\"Number of object images \", i)    "
   ]
  }
 ],
 "metadata": {
  "kernelspec": {
   "display_name": "Python 3",
   "language": "python",
   "name": "python3"
  },
  "language_info": {
   "codemirror_mode": {
    "name": "ipython",
    "version": 3
   },
   "file_extension": ".py",
   "mimetype": "text/x-python",
   "name": "python",
   "nbconvert_exporter": "python",
   "pygments_lexer": "ipython3",
   "version": "3.6.8"
  }
 },
 "nbformat": 4,
 "nbformat_minor": 2
}
