{
 "cells": [
  {
   "cell_type": "code",
   "execution_count": 1,
   "metadata": {},
   "outputs": [],
   "source": [
    "import shutil\n",
    "import os\n",
    "import cv2\n",
    "import numpy as np;\n",
    "import os\n",
    "import time\n",
    "import random\n",
    "import sys\n",
    "import pandas as pd\n",
    "import xml.etree.ElementTree as et "
   ]
  },
  {
   "cell_type": "code",
   "execution_count": 4,
   "metadata": {},
   "outputs": [
    {
     "name": "stdout",
     "output_type": "stream",
     "text": [
      "syndata-generation/output_dir/images\n",
      "syndata-generation/output_dir/none\n",
      "Number of synthetic images  1097\n"
     ]
    }
   ],
   "source": [
    "#Select images without blending\n",
    "\n",
    "src= 'syndata-generation/output_dir/images'\n",
    "print(src)\n",
    "\n",
    "des= 'syndata-generation/output_dir/none'\n",
    "print(des)\n",
    "\n",
    "files=[os.path.basename(name).split('.')[0] for name in os.listdir(src)]\n",
    "\n",
    "format = 'jpg'\n",
    "i = 0\n",
    "\n",
    "for file_name in files:\n",
    "    if 'gaussian' not in file_name:\n",
    "        path = os.path.join(src,file_name+\".\"+format)\n",
    "        #print(path)\n",
    "        shutil.copy(path,des)\n",
    "        i+=1\n",
    "        \n",
    "print(\"Number of synthetic images \", i)"
   ]
  },
  {
   "cell_type": "code",
   "execution_count": 2,
   "metadata": {},
   "outputs": [
    {
     "name": "stdout",
     "output_type": "stream",
     "text": [
      "syndata-generation/output_dir/images\n",
      "syndata-generation/output_dir/gaussian\n",
      "Number of synthetic images  1097\n"
     ]
    }
   ],
   "source": [
    "#Select images with blending effects\n",
    "\n",
    "src= 'syndata-generation/output_dir/images'\n",
    "print(src)\n",
    "\n",
    "des= 'syndata-generation/output_dir/gaussian'\n",
    "print(des)\n",
    "\n",
    "files=[os.path.basename(name).split('.')[0] for name in os.listdir(src)]\n",
    "\n",
    "format = 'jpg'\n",
    "i = 0\n",
    "\n",
    "for file_name in files:\n",
    "    if 'gaussian' in file_name:\n",
    "        path = os.path.join(src,file_name+\".\"+format)\n",
    "        #print(path)\n",
    "        shutil.copy(path,des)\n",
    "        i+=1\n",
    "        \n",
    "print(\"Number of synthetic images \", i)"
   ]
  },
  {
   "cell_type": "code",
   "execution_count": 3,
   "metadata": {},
   "outputs": [
    {
     "name": "stdout",
     "output_type": "stream",
     "text": [
      "syndata-generation/output_dir/annotations\n",
      "syndata-generation/output_dir/gaussian\n",
      "Number of synthetic annotations  1097\n"
     ]
    }
   ],
   "source": [
    "#Select annotations with blending effects\n",
    "\n",
    "src= 'syndata-generation/output_dir/annotations'\n",
    "print(src)\n",
    "\n",
    "des= 'syndata-generation/output_dir/gaussian'\n",
    "print(des)\n",
    "\n",
    "files=[os.path.basename(name).split('.')[0] for name in os.listdir(src)]\n",
    "\n",
    "format = 'xml'\n",
    "i = 0\n",
    "\n",
    "for file_name in files:\n",
    "    path = os.path.join(src,file_name+\".\"+format)\n",
    "    #print(path)\n",
    "    shutil.copy(path,os.path.join(des, file_name.split('_')[0]+\"_gaussian.\"+format))\n",
    "    i+=1\n",
    "        \n",
    "print(\"Number of synthetic annotations \", i)"
   ]
  },
  {
   "cell_type": "code",
   "execution_count": null,
   "metadata": {},
   "outputs": [],
   "source": []
  }
 ],
 "metadata": {
  "kernelspec": {
   "display_name": "Python 3",
   "language": "python",
   "name": "python3"
  },
  "language_info": {
   "codemirror_mode": {
    "name": "ipython",
    "version": 3
   },
   "file_extension": ".py",
   "mimetype": "text/x-python",
   "name": "python",
   "nbconvert_exporter": "python",
   "pygments_lexer": "ipython3",
   "version": "3.6.8"
  }
 },
 "nbformat": 4,
 "nbformat_minor": 2
}
