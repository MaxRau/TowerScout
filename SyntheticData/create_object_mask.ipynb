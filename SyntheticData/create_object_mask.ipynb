{
 "cells": [
  {
   "cell_type": "code",
   "execution_count": 2,
   "metadata": {},
   "outputs": [],
   "source": [
    "import shutil\n",
    "import os\n",
    "import cv2\n",
    "import numpy as np;\n",
    "import os\n",
    "import time\n",
    "import random\n",
    "import sys\n",
    "import pandas as pd\n",
    "import xml.etree.ElementTree as et "
   ]
  },
  {
   "cell_type": "code",
   "execution_count": 4,
   "metadata": {},
   "outputs": [
    {
     "name": "stdout",
     "output_type": "stream",
     "text": [
      "Number of files  190\n"
     ]
    }
   ],
   "source": [
    "### Rename image files\n",
    "\n",
    "src= 'rawdata/newcities/train/'\n",
    "i = 0\n",
    "\n",
    "for name in os.listdir(src):\n",
    "    if name != '.DS_Store':\n",
    "        basename = os.path.basename(name).split('.')[0]\n",
    "        new_name = basename +'.jpg'\n",
    "        old_path = os.path.join(src, name)\n",
    "        new_path = os.path.join(src, new_name)\n",
    "        os.rename(old_path,new_path) \n",
    "        i += 1\n",
    "print(\"Number of files \", i)"
   ]
  },
  {
   "cell_type": "code",
   "execution_count": 5,
   "metadata": {},
   "outputs": [
    {
     "name": "stdout",
     "output_type": "stream",
     "text": [
      "Number of files  190\n"
     ]
    }
   ],
   "source": [
    "### Rename annotation files\n",
    "\n",
    "src= 'rawdata/newcities_annot'\n",
    "i = 0\n",
    "\n",
    "for name in os.listdir(src):\n",
    "    if name != '.DS_Store':\n",
    "        basename = os.path.basename(name).split('.')[0]\n",
    "        new_name = basename +'.xml'\n",
    "        old_path = os.path.join(src, name)\n",
    "        new_path = os.path.join(src, new_name)\n",
    "        os.rename(old_path,new_path) \n",
    "        i += 1\n",
    "print(\"Number of files \", i)"
   ]
  },
  {
   "cell_type": "code",
   "execution_count": 6,
   "metadata": {},
   "outputs": [
    {
     "name": "stdout",
     "output_type": "stream",
     "text": [
      "Number of object images  545\n"
     ]
    }
   ],
   "source": [
    "### Create mask files\n",
    "\n",
    "src= 'rawdata/newcities/train/'\n",
    "annotation = 'rawdata/newcities_annot/'\n",
    "des_imgs= 'syndata-generation/data_dir/objects_dir/ct/imgs/'\n",
    "des_masks= 'syndata-generation/data_dir/objects_dir/ct/masks/'\n",
    "colors = ([1, 0, 0], [0, 1, 0], [0, 0, 1], [1, 1, 0], [0, 1, 1], [1, 0, 1])\n",
    "i = 0\n",
    "for name in os.listdir(src):\n",
    "    if name != '.DS_Store':\n",
    "        basename = os.path.basename(name).split('.')[0]\n",
    "        img_path = os.path.join(src, name)\n",
    "        an_path = os.path.join(annotation, basename +'.xml')\n",
    "        xtree = et.parse(an_path)\n",
    "        xroot = xtree.getroot()\n",
    "        m=0\n",
    "        for xy in xroot.findall('object/bndbox'):\n",
    "            xmin=int(xy.find(\"xmin\").text)\n",
    "            ymin=int(xy.find(\"ymin\").text)\n",
    "            xmax=int(xy.find(\"xmax\").text)\n",
    "            ymax=int(xy.find(\"ymax\").text)            \n",
    "            #print(img_path, m, xmin,ymin,xmax,ymax)\n",
    "            img = cv2.imread(img_path)\n",
    "            mask = img.copy()\n",
    "            mask[:] = 0\n",
    "            #cv2.rectangle(mask, (int(xmin), int(ymin)), (int(xmax), int(ymax)), (255,255,255))\n",
    "            mask[ymin:ymax,xmin:xmax] = 255        \n",
    "            gray = cv2.cvtColor(mask, cv2.COLOR_BGR2GRAY) \n",
    "            cv2.imwrite(des_masks+basename+'_'+str(m)+'.png',gray) # save mask\n",
    "            shutil.copy(img_path, des_imgs+basename+'_'+str(m)+'.png')\n",
    "            m+= 1\n",
    "            i+= 1\n",
    "        \n",
    "print(\"Number of object images \", i)"
   ]
  },
  {
   "cell_type": "code",
   "execution_count": null,
   "metadata": {},
   "outputs": [],
   "source": []
  }
 ],
 "metadata": {
  "kernelspec": {
   "display_name": "Python 3",
   "language": "python",
   "name": "python3"
  },
  "language_info": {
   "codemirror_mode": {
    "name": "ipython",
    "version": 3
   },
   "file_extension": ".py",
   "mimetype": "text/x-python",
   "name": "python",
   "nbconvert_exporter": "python",
   "pygments_lexer": "ipython3",
   "version": "3.6.8"
  }
 },
 "nbformat": 4,
 "nbformat_minor": 2
}
